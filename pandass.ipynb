{
 "cells": [
  {
   "cell_type": "code",
   "execution_count": 1,
   "id": "f72f3d0e-6b43-4c5c-aa48-cd287b6087b8",
   "metadata": {},
   "outputs": [
    {
     "name": "stdout",
     "output_type": "stream",
     "text": [
      "    name  salary  age\n",
      "0  peter    2344   12\n",
      "1   chan    6778   45\n",
      "2  hamad    9087   90\n"
     ]
    }
   ],
   "source": [
    "import pandas as pd\n",
    "data={\"name\":['peter','chan','hamad'],\n",
    "     \"salary\":[2344,6778,9087],\n",
    "     \"age\":[12,45,90]}\n",
    "pn=pd.DataFrame(data)\n",
    "print(pn)\n"
   ]
  },
  {
   "cell_type": "code",
   "execution_count": 3,
   "id": "d7ebe012-4ecb-4a0d-b515-46ecf9175a89",
   "metadata": {},
   "outputs": [
    {
     "name": "stdout",
     "output_type": "stream",
     "text": [
      "         name  english   math  physics\n",
      "0       ahmad       12   23.0       23\n",
      "1        amal       34   67.0       56\n",
      "2       namal       56   54.0       98\n",
      "3      salman       76   79.0       32\n",
      "4      saleha       54   94.5       45\n",
      "5      ayesha       34  110.0       98\n",
      "6        anam      255  125.5      120\n",
      "7       ahmad       65  141.0       65\n",
      "8      nooran       98  156.5      140\n",
      "9  zulqurnain       76  172.0      147\n"
     ]
    }
   ],
   "source": [
    "rd=pd.read_csv(\"D:/class3.csv\")\n",
    "print(rd)"
   ]
  },
  {
   "cell_type": "code",
   "execution_count": null,
   "id": "ce49ab6e-965c-4a22-bdfb-b9a9c5eca7f2",
   "metadata": {},
   "outputs": [],
   "source": []
  },
  {
   "cell_type": "code",
   "execution_count": 5,
   "id": "042d54e1-15b3-4536-afef-1110da466568",
   "metadata": {},
   "outputs": [
    {
     "name": "stdout",
     "output_type": "stream",
     "text": [
      "   Unnamed: 0   FIRST YEAR RESULT Unnamed: 2 Unnamed: 3 Unnamed: 4 Unnamed: 5  \\\n",
      "0         NaN                NAME       MATH        ENG        PHY       CHEM   \n",
      "1           1       AYESHA NADEEM         11         10          8          0   \n",
      "2           2     WAREESHA AKHTAR          5         14         12          2   \n",
      "3           3          EMAN QASIM          9         12          6          3   \n",
      "4           4             SEHRISH         19         17          7          5   \n",
      "5           5        NAWAL FATIMA          8         15          9          4   \n",
      "6           6       FATIMA SHAHID          8          8         13         10   \n",
      "7           7          FIZA IMRAN          5         10          3          3   \n",
      "8           8              BLESSY         13         17          3          4   \n",
      "9           9              FATIMA         11          6          8          4   \n",
      "10         10  AMMAMA NAVEED TURK         13          9          7          5   \n",
      "11         11         HADIA ABBAS         13         10         10         10   \n",
      "12         12       MARYAM KHALID          8         11          6          0   \n",
      "13         13      RIMSHA RAFIQUE          3          5          0          0   \n",
      "14         14         MOMINA NOOR          2         17         11          8   \n",
      "15         15        UROOJ KHALID         13         12          8          4   \n",
      "16         16        MEHAK FATIMA          7         12         10          5   \n",
      "17         17         NADIA BAIG           7         14          5          0   \n",
      "18         18        AREEBA IMRAN         11         12          6          0   \n",
      "19         19       SAMIA GILLANI          0         17          5          0   \n",
      "\n",
      "   Unnamed: 6 Unnamed: 7 Unnamed: 8  \n",
      "0         BIO      TOTAL          %  \n",
      "1           0         29  27.619048  \n",
      "2           8         41  39.047619  \n",
      "3           6         36  34.285714  \n",
      "4           5         53   50.47619  \n",
      "5           0         36  34.285714  \n",
      "6           5         44  41.904762  \n",
      "7           8         29  27.619048  \n",
      "8           8         45  42.857143  \n",
      "9           8         37  35.238095  \n",
      "10          0         34  32.380952  \n",
      "11          0         43  40.952381  \n",
      "12          6         31   29.52381  \n",
      "13          5         13  12.380952  \n",
      "14         12         50  47.619048  \n",
      "15          0         37  35.238095  \n",
      "16          4         38  36.190476  \n",
      "17          1         27  25.714286  \n",
      "18          0         29  27.619048  \n",
      "19          1         23  21.904762  \n"
     ]
    }
   ],
   "source": [
    "import pandas as pd\n",
    "re=pd.read_excel(\"D:/red.xlsx\")\n",
    "\n",
    "print(re.head(20))"
   ]
  },
  {
   "cell_type": "code",
   "execution_count": 7,
   "id": "1c1a03d7-83a9-4575-acd7-5875baaf654f",
   "metadata": {},
   "outputs": [
    {
     "name": "stdout",
     "output_type": "stream",
     "text": [
      "   Unnamed: 0 FIRST YEAR RESULT Unnamed: 2 Unnamed: 3 Unnamed: 4 Unnamed: 5  \\\n",
      "46         46        HASNA NOOR          8          9         10         11   \n",
      "47         47    WANEEYA FAROOQ          9          8          8         10   \n",
      "48         48    AROOBA RASHEED          3          8          3          6   \n",
      "49         49       RIDA FATIMA         15         12         12          5   \n",
      "50         50        ZOYA JAMIL         20         13         13          7   \n",
      "51         51        FIAZA BIBI         20         18         13          4   \n",
      "52         52        RIMLA ABID         10         21          3          4   \n",
      "53         53    MANAHIL MNAWAR         10         12         10          3   \n",
      "54         54        MAHAK EMAN          8         14          5          1   \n",
      "55         55      AYESHA ZAFAR          2          8          0          2   \n",
      "56        NaN               NaN        NaN        NaN        NaN        NaN   \n",
      "57        NaN      10th  RESULT        NaN        NaN        NaN        NaN   \n",
      "58        NaN               NaN        NaN        NaN        NaN        NaN   \n",
      "59        NO.              NAME       MATH        ENG        PHY       CHEM   \n",
      "60          1              TUBA          4         11         10          2   \n",
      "61          2      MEHAR FATIMA          0         10          2          0   \n",
      "62          3       DUR-E-NAJAF          0          6          5          0   \n",
      "63          4          MANKISHA          1          3          2          0   \n",
      "64          5      SHANZAY KHAN          2         16          9          2   \n",
      "65          6      ZOHA SHABBIR         12         12          6          2   \n",
      "\n",
      "   Unnamed: 6 Unnamed: 7 Unnamed: 8  \n",
      "46         11         49  46.666667  \n",
      "47         10         45  42.857143  \n",
      "48          9         29  27.619048  \n",
      "49          0         44  41.904762  \n",
      "50          0         53   50.47619  \n",
      "51          0         55  52.380952  \n",
      "52          4         42         40  \n",
      "53          6         41  39.047619  \n",
      "54          8         36  34.285714  \n",
      "55          2         14  13.333333  \n",
      "56        NaN        NaN        NaN  \n",
      "57        NaN        NaN        NaN  \n",
      "58        NaN        NaN        NaN  \n",
      "59        BIO      TOTAL          %  \n",
      "60          8         35  33.333333  \n",
      "61          4         16  15.238095  \n",
      "62          5         16  15.238095  \n",
      "63          5         11   10.47619  \n",
      "64          0         29  27.619048  \n",
      "65          6         38  36.190476  \n"
     ]
    }
   ],
   "source": [
    "print(re.tail(20))"
   ]
  },
  {
   "cell_type": "code",
   "execution_count": 9,
   "id": "c8f804d6-2a55-4b8c-9a1c-a8f7220953e0",
   "metadata": {},
   "outputs": [
    {
     "name": "stdout",
     "output_type": "stream",
     "text": [
      "<class 'pandas.core.frame.DataFrame'>\n",
      "RangeIndex: 66 entries, 0 to 65\n",
      "Data columns (total 9 columns):\n",
      " #   Column             Non-Null Count  Dtype \n",
      "---  ------             --------------  ----- \n",
      " 0   Unnamed: 0         62 non-null     object\n",
      " 1   FIRST YEAR RESULT  64 non-null     object\n",
      " 2   Unnamed: 2         63 non-null     object\n",
      " 3   Unnamed: 3         63 non-null     object\n",
      " 4   Unnamed: 4         63 non-null     object\n",
      " 5   Unnamed: 5         63 non-null     object\n",
      " 6   Unnamed: 6         63 non-null     object\n",
      " 7   Unnamed: 7         63 non-null     object\n",
      " 8   Unnamed: 8         63 non-null     object\n",
      "dtypes: object(9)\n",
      "memory usage: 4.8+ KB\n",
      "None\n"
     ]
    }
   ],
   "source": [
    "print(re.info())"
   ]
  },
  {
   "cell_type": "code",
   "execution_count": 11,
   "id": "d6914046-6e5c-41ff-a8e0-37d04359f362",
   "metadata": {},
   "outputs": [
    {
     "name": "stdout",
     "output_type": "stream",
     "text": [
      "        Unnamed: 0 FIRST YEAR RESULT  Unnamed: 2  Unnamed: 3  Unnamed: 4  \\\n",
      "count           62                64          63          63          63   \n",
      "unique          56                63          20          19          16   \n",
      "top              1              NAME           8          12           8   \n",
      "freq             2                 2           7           8           7   \n",
      "\n",
      "        Unnamed: 5  Unnamed: 6  Unnamed: 7  Unnamed: 8  \n",
      "count           63          63          63   63.000000  \n",
      "unique          14          13          34   34.000000  \n",
      "top              0           0          38   36.190476  \n",
      "freq            12          20           5    5.000000  \n"
     ]
    }
   ],
   "source": [
    "print(re.describe())"
   ]
  },
  {
   "cell_type": "code",
   "execution_count": 17,
   "id": "09d15dd9-cbc4-496b-a230-bb3336c6b0aa",
   "metadata": {},
   "outputs": [
    {
     "name": "stdout",
     "output_type": "stream",
     "text": [
      "Unnamed: 0           4\n",
      "FIRST YEAR RESULT    2\n",
      "Unnamed: 2           3\n",
      "Unnamed: 3           3\n",
      "Unnamed: 4           3\n",
      "Unnamed: 5           3\n",
      "Unnamed: 6           3\n",
      "Unnamed: 7           3\n",
      "Unnamed: 8           3\n",
      "dtype: int64\n"
     ]
    }
   ],
   "source": [
    "print(re.isnull().sum())\n"
   ]
  },
  {
   "cell_type": "code",
   "execution_count": 19,
   "id": "7387bf6f-7019-4b4a-9c15-cbb2e7a5e9d2",
   "metadata": {},
   "outputs": [
    {
     "name": "stdout",
     "output_type": "stream",
     "text": [
      "         name  english   math  physics\n",
      "0       ahmad       12   23.0       23\n",
      "1        amal       34   67.0       56\n",
      "2       namal       56   54.0       98\n",
      "3      salman       76   79.0       32\n",
      "4      saleha       54   94.5       45\n",
      "5      ayesha       34  110.0       98\n",
      "6        anam      255  125.5      120\n",
      "7       ahmad       65  141.0       65\n",
      "8      nooran       98  156.5      140\n",
      "9  zulqurnain       76  172.0      147\n"
     ]
    }
   ],
   "source": [
    "import pandas as pd\n",
    "rd=pd.read_csv(\"D:/class3.csv\")\n",
    "print(rd)"
   ]
  },
  {
   "cell_type": "code",
   "execution_count": 27,
   "id": "fdd7e3d2-d1d2-48c3-a334-246ccffe5b7d",
   "metadata": {},
   "outputs": [
    {
     "name": "stdout",
     "output_type": "stream",
     "text": [
      "2\n"
     ]
    }
   ],
   "source": [
    "print(rd[\"english\"].duplicated().sum())"
   ]
  },
  {
   "cell_type": "code",
   "execution_count": 29,
   "id": "ab7c24fd-91d8-4931-a143-9823c3ef3c7e",
   "metadata": {},
   "outputs": [
    {
     "name": "stdout",
     "output_type": "stream",
     "text": [
      "         name  english   math  physics\n",
      "0       ahmad       12   23.0       23\n",
      "1        amal       34   67.0       56\n",
      "2       namal       56   54.0       98\n",
      "3      salman       76   79.0       32\n",
      "4      saleha       54   94.5       45\n",
      "5      ayesha       34  110.0       98\n",
      "6        anam      255  125.5      120\n",
      "8      nooran       98  156.5      140\n",
      "9  zulqurnain       76  172.0      147\n"
     ]
    }
   ],
   "source": [
    "print(rd.drop_duplicates(\"name\"))"
   ]
  },
  {
   "cell_type": "code",
   "execution_count": 59,
   "id": "176bf813-7a27-4e0d-a07d-3386fce5f3a0",
   "metadata": {},
   "outputs": [
    {
     "name": "stdout",
     "output_type": "stream",
     "text": [
      "          name  english   math  physics\n",
      "0        ahmad      NaN   23.0     23.0\n",
      "1         amal     34.0   67.0     56.0\n",
      "2        namal     56.0   54.0      NaN\n",
      "3       salman     76.0   79.0     32.0\n",
      "4       saleha     54.0   94.5     45.0\n",
      "5       ayesha     34.0  110.0     98.0\n",
      "6         anam    255.0  125.5    120.0\n",
      "7        ahmad     65.0  141.0     65.0\n",
      "8       nooran     98.0  156.5    140.0\n",
      "9   zulqurnain     76.0  172.0    147.0\n",
      "10     areesha     34.0    NaN    123.0\n"
     ]
    }
   ],
   "source": [
    "import pandas as pd\n",
    "rd=pd.read_csv(\"D:/class3.csv\")\n",
    "print(rd)"
   ]
  },
  {
   "cell_type": "code",
   "execution_count": null,
   "id": "d01ff55b-573d-4271-a2b8-232046381c76",
   "metadata": {},
   "outputs": [],
   "source": []
  },
  {
   "cell_type": "code",
   "execution_count": 43,
   "id": "55f8962f-e114-4064-a58f-f9db07202e10",
   "metadata": {},
   "outputs": [
    {
     "name": "stdout",
     "output_type": "stream",
     "text": [
      "name       0\n",
      "english    1\n",
      "math       1\n",
      "physics    1\n",
      "dtype: int64\n"
     ]
    }
   ],
   "source": [
    "print(rd.isnull().sum())"
   ]
  },
  {
   "cell_type": "code",
   "execution_count": 63,
   "id": "6b289741-7c61-42db-b651-b8d15f7f833e",
   "metadata": {},
   "outputs": [
    {
     "name": "stdout",
     "output_type": "stream",
     "text": [
      "0      78.0\n",
      "1      34.0\n",
      "2      56.0\n",
      "3      76.0\n",
      "4      54.0\n",
      "5      34.0\n",
      "6     255.0\n",
      "7      65.0\n",
      "8      98.0\n",
      "9      76.0\n",
      "10     34.0\n",
      "Name: english, dtype: float64\n",
      "78.18181818181819\n"
     ]
    }
   ],
   "source": [
    "import numpy as np\n",
    "rd[\"english\"]=rd[\"english\"].replace(np.nan,78)\n",
    "print(rd[\"english\"])\n",
    "print(rd[\"english\"].mean())"
   ]
  },
  {
   "cell_type": "code",
   "execution_count": 67,
   "id": "1c0efbec-ecc7-4301-b055-4c5afeaaaa70",
   "metadata": {},
   "outputs": [
    {
     "name": "stdout",
     "output_type": "stream",
     "text": [
      "          name  english   math  physics\n",
      "0        ahmad     78.0   23.0     23.0\n",
      "1         amal     34.0   67.0     56.0\n",
      "2        namal     56.0   54.0      NaN\n",
      "3       salman     76.0   79.0     32.0\n",
      "4       saleha     54.0   94.5     45.0\n",
      "5       ayesha     34.0  110.0     98.0\n",
      "6         anam    255.0  125.5    120.0\n",
      "7        ahmad     65.0  141.0     65.0\n",
      "8       nooran     98.0  156.5    140.0\n",
      "9   zulqurnain     76.0  172.0    147.0\n",
      "10     areesha     34.0    NaN    123.0\n",
      "          name  english   math  physics\n",
      "0        ahmad     78.0   23.0     23.0\n",
      "1         amal     34.0   67.0     56.0\n",
      "2        namal     56.0   54.0     56.0\n",
      "3       salman     76.0   79.0     32.0\n",
      "4       saleha     54.0   94.5     45.0\n",
      "5       ayesha     34.0  110.0     98.0\n",
      "6         anam    255.0  125.5    120.0\n",
      "7        ahmad     65.0  141.0     65.0\n",
      "8       nooran     98.0  156.5    140.0\n",
      "9   zulqurnain     76.0  172.0    147.0\n",
      "10     areesha     34.0  172.0    123.0\n"
     ]
    },
    {
     "name": "stderr",
     "output_type": "stream",
     "text": [
      "C:\\Users\\Fizza Tehreem\\AppData\\Local\\Temp\\ipykernel_10184\\3711813678.py:2: FutureWarning: DataFrame.fillna with 'method' is deprecated and will raise in a future version. Use obj.ffill() or obj.bfill() instead.\n",
      "  print(rd.fillna(method=\"ffill\"))\n"
     ]
    }
   ],
   "source": [
    "print(rd)\n",
    "print(rd.fillna(method=\"ffill\"))"
   ]
  },
  {
   "cell_type": "code",
   "execution_count": 5,
   "id": "bb7ab3d0-ff1b-42d7-8909-b76fd90b1055",
   "metadata": {},
   "outputs": [
    {
     "name": "stdout",
     "output_type": "stream",
     "text": [
      "          name  english   math  physics      status\n",
      "0        ahmad      NaN   23.0     23.0         NaN\n",
      "1         amal     34.0   67.0     56.0         NaN\n",
      "2        namal     56.0   54.0      NaN  high marks\n",
      "3       salman     76.0   79.0     32.0  high marks\n",
      "4       saleha     54.0   94.5     45.0  high marks\n",
      "5       ayesha     34.0  110.0     98.0         NaN\n",
      "6         anam    255.0  125.5    120.0     highest\n",
      "7        ahmad     65.0  141.0     65.0  high marks\n",
      "8       nooran     98.0  156.5    140.0  high marks\n",
      "9   zulqurnain     76.0  172.0    147.0  high marks\n",
      "10     areesha     34.0    NaN    123.0         NaN\n"
     ]
    }
   ],
   "source": [
    "import pandas as pd\n",
    "rd=pd.read_csv(\"D:/class3.csv\")\n",
    "rd.loc[(rd[\"english\"]>50),\"status\"]=\"high marks\"\n",
    "rd.loc[(rd[\"english\"]>100,\"status\")]=\"highest\"\n",
    "print(rd)"
   ]
  },
  {
   "cell_type": "code",
   "execution_count": 7,
   "id": "a87b0d97-599b-40e4-96a2-af1cb6a5c54e",
   "metadata": {},
   "outputs": [
    {
     "name": "stdout",
     "output_type": "stream",
     "text": [
      "          name  english   math  physics      status  total\n",
      "0        ahmad      NaN   23.0     23.0         NaN   46.0\n",
      "1         amal     34.0   67.0     56.0         NaN  123.0\n",
      "2        namal     56.0   54.0      NaN  high marks    NaN\n",
      "3       salman     76.0   79.0     32.0  high marks  111.0\n",
      "4       saleha     54.0   94.5     45.0  high marks  139.5\n",
      "5       ayesha     34.0  110.0     98.0         NaN  208.0\n",
      "6         anam    255.0  125.5    120.0     highest  245.5\n",
      "7        ahmad     65.0  141.0     65.0  high marks  206.0\n",
      "8       nooran     98.0  156.5    140.0  high marks  296.5\n",
      "9   zulqurnain     76.0  172.0    147.0  high marks  319.0\n",
      "10     areesha     34.0    NaN    123.0         NaN    NaN\n"
     ]
    }
   ],
   "source": [
    "rd[\"total\"]=rd[\"math\"]+rd[\"physics\"]\n",
    "print(rd)"
   ]
  },
  {
   "cell_type": "code",
   "execution_count": 13,
   "id": "5dfd57f3-ad2d-48d8-b4d5-b6154493ce71",
   "metadata": {},
   "outputs": [
    {
     "name": "stdout",
     "output_type": "stream",
     "text": [
      "          name  english   math  physics\n",
      "0        ahmad      NaN   23.0     23.0\n",
      "1         amal     34.0   67.0     56.0\n",
      "2        namal     56.0   54.0      NaN\n",
      "3       salman     76.0   79.0     32.0\n",
      "4       saleha     54.0   94.5     45.0\n",
      "5       ayesha     34.0  110.0     98.0\n",
      "6         anam    255.0  125.5    120.0\n",
      "7        ahmad     65.0  141.0     65.0\n",
      "8       nooran     98.0  156.5    140.0\n",
      "9   zulqurnain     76.0  172.0    147.0\n",
      "10     areesha     34.0    NaN    123.0\n",
      "          name  english   math  physics    half\n",
      "0        ahmad      NaN   23.0     23.0     NaN\n",
      "1         amal     34.0   67.0     56.0   78.50\n",
      "2        namal     56.0   54.0      NaN     NaN\n",
      "3       salman     76.0   79.0     32.0   93.50\n",
      "4       saleha     54.0   94.5     45.0   96.75\n",
      "5       ayesha     34.0  110.0     98.0  121.00\n",
      "6         anam    255.0  125.5    120.0  250.25\n",
      "7        ahmad     65.0  141.0     65.0  135.50\n",
      "8       nooran     98.0  156.5    140.0  197.25\n",
      "9   zulqurnain     76.0  172.0    147.0  197.50\n",
      "10     areesha     34.0    NaN    123.0     NaN\n"
     ]
    }
   ],
   "source": [
    "import pandas as pd\n",
    "rd=pd.read_csv(\"D:/class3.csv\")\n",
    "print(rd)\n",
    "rd[\"half\"]=(rd[\"english\"]+rd[\"math\"]+rd[\"physics\"])/2\n",
    "print(rd)"
   ]
  },
  {
   "cell_type": "code",
   "execution_count": 9,
   "id": "141d7ad8-eb73-4777-ab9f-88ef73084bd7",
   "metadata": {},
   "outputs": [
    {
     "name": "stdout",
     "output_type": "stream",
     "text": [
      "     months\n",
      "0   january\n",
      "1  february\n",
      "2     march\n"
     ]
    }
   ],
   "source": [
    "#data={\"months\":[\"january\",\"february\",\"march\"]}\n",
    "#print(pd.DataFrame(data))\n",
    "import pandas as pd\n",
    "data={\"months\":[\"january\",\"february\",\"march\"]}\n",
    "print(pd.DataFrame(data))"
   ]
  },
  {
   "cell_type": "code",
   "execution_count": 3,
   "id": "fce32929-1088-4484-b30c-c63a471f6607",
   "metadata": {},
   "outputs": [
    {
     "name": "stdout",
     "output_type": "stream",
     "text": [
      "     months\n",
      "0   january\n",
      "1  february\n",
      "2     march\n",
      "3     april\n",
      "     months short\n",
      "0   january   jan\n",
      "1  february   feb\n",
      "2     march   mar\n",
      "3     april   apr\n"
     ]
    }
   ],
   "source": [
    "import pandas as pd\n",
    "data={\"months\":[\"january\",\"february\",\"march\",\"april\"]}\n",
    "a=pd.DataFrame(data)\n",
    "print(a)\n",
    "def extract(value):\n",
    "    return value[0:3]\n",
    "a[\"short\"]=a[\"months\"].map(extract)\n",
    "print(a)"
   ]
  },
  {
   "cell_type": "code",
   "execution_count": 11,
   "id": "c8cc4cc1-fa4b-463d-90fd-11b59089fbe8",
   "metadata": {},
   "outputs": [
    {
     "name": "stdout",
     "output_type": "stream",
     "text": [
      "   Unnamed: 0 FIRST YEAR RESULT Unnamed: 2 Unnamed: 3 Unnamed: 4 Unnamed: 5  \\\n",
      "0         NaN              NAME       MATH        ENG        PHY       CHEM   \n",
      "1           1     AYESHA NADEEM         11         10          8          0   \n",
      "2           2   WAREESHA AKHTAR          5         14         12          2   \n",
      "3           3        EMAN QASIM          9         12          6          3   \n",
      "4           4           SEHRISH         19         17          7          5   \n",
      "..        ...               ...        ...        ...        ...        ...   \n",
      "61          2      MEHAR FATIMA          0         10          2          0   \n",
      "62          3       DUR-E-NAJAF          0          6          5          0   \n",
      "63          4          MANKISHA          1          3          2          0   \n",
      "64          5      SHANZAY KHAN          2         16          9          2   \n",
      "65          6      ZOHA SHABBIR         12         12          6          2   \n",
      "\n",
      "   Unnamed: 6 Unnamed: 7 Unnamed: 8  \n",
      "0         BIO      TOTAL          %  \n",
      "1           0         29  27.619048  \n",
      "2           8         41  39.047619  \n",
      "3           6         36  34.285714  \n",
      "4           5         53   50.47619  \n",
      "..        ...        ...        ...  \n",
      "61          4         16  15.238095  \n",
      "62          5         16  15.238095  \n",
      "63          5         11   10.47619  \n",
      "64          0         29  27.619048  \n",
      "65          6         38  36.190476  \n",
      "\n",
      "[66 rows x 9 columns]\n"
     ]
    }
   ],
   "source": [
    "import pandas as pd\n",
    "re=pd.read_excel(\"D:/red.xlsx\")\n",
    "print(re)"
   ]
  },
  {
   "cell_type": "code",
   "execution_count": 3,
   "id": "67a0897e-8e65-4595-9de0-687a4d1a7dfc",
   "metadata": {},
   "outputs": [
    {
     "name": "stdout",
     "output_type": "stream",
     "text": [
      "    empid      name        salary  bonus      country gender\n",
      "0       1   aleesha   2300.000000      1     pakistan      F\n",
      "1       2    areeba   3456.000000      2  afghanistan      M\n",
      "2       3      hina   4563.000000      3      america      F\n",
      "3       4    majeed   6785.000000      5       turkey      M\n",
      "4       5   minahil   2345.000000      7    tajikstan      M\n",
      "5       6      mala   9876.000000      8     pakistan      M\n",
      "6       7     moeez   8564.400000      1  afghanistan      F\n",
      "7       8     ahmad   9614.942857      2      america      M\n",
      "8       9    zubair  10665.485710      3       turkey      M\n",
      "9      10     talal  11716.028570      4    tajikstan      F\n",
      "10     11  iftikhar  12766.571430      5     pakistan      F\n",
      "11     12    moneeb  13817.114290      3  afghanistan      M\n",
      "12     13     hamid  14867.657140      4      america      F\n",
      "13     14     fizza  15918.200000      2       turkey      M\n",
      "14     15    salman  16968.742860      5    tajikstan      M\n"
     ]
    }
   ],
   "source": [
    "import pandas as pd\n",
    "data=pd.read_csv(\"D:/employe.csv\")\n",
    "print(data)"
   ]
  },
  {
   "cell_type": "code",
   "execution_count": 7,
   "id": "1ad365a5-a66f-48a3-9d8d-4e0212712624",
   "metadata": {},
   "outputs": [
    {
     "name": "stdout",
     "output_type": "stream",
     "text": [
      "                          salary\n",
      "country     gender              \n",
      "afghanistan F        8564.400000\n",
      "            M        8636.557145\n",
      "america     F        9715.328570\n",
      "            M        9614.942857\n",
      "pakistan    F        7533.285715\n",
      "            M        9876.000000\n",
      "tajikstan   F       11716.028570\n",
      "            M        9656.871430\n",
      "turkey      M       11122.895237\n"
     ]
    }
   ],
   "source": [
    "gp=data.groupby([\"country\",\"gender\"]).agg({\"salary\":\"mean\"})\n",
    "print(gp)"
   ]
  },
  {
   "cell_type": "code",
   "execution_count": 9,
   "id": "7d734eb3-04f3-43fc-b484-6678266e6fc8",
   "metadata": {},
   "outputs": [
    {
     "name": "stdout",
     "output_type": "stream",
     "text": [
      "   emp id    name  age\n",
      "0       1   aslam   23\n",
      "1       2  gulfam   24\n",
      "2       3   hurry   45\n",
      "3       4  numair   65\n",
      "4       5   ahmad   72\n",
      "5       6   jafar   37\n",
      "6       7  ayesha   65\n",
      "7       8   ishaq   43\n",
      " \n",
      "   emp id  salary\n",
      "0       1   12000\n",
      "1       2   34000\n",
      "2       3   76000\n",
      "3       4   34000\n",
      "4       5   54600\n",
      "5       6   23000\n",
      "6       7   12000\n",
      "7       8   98000\n",
      "   emp id    name  age  salary\n",
      "0       1   aslam   23   12000\n",
      "1       2  gulfam   24   34000\n",
      "2       3   hurry   45   76000\n",
      "3       4  numair   65   34000\n",
      "4       5   ahmad   72   54600\n",
      "5       6   jafar   37   23000\n",
      "6       7  ayesha   65   12000\n",
      "7       8   ishaq   43   98000\n"
     ]
    }
   ],
   "source": [
    "import pandas as pd\n",
    "data1={\"emp id\":[1,2,3,4,5,6,7,8],\n",
    "     \"name\":[\"aslam\",\"gulfam\",\"hurry\",\"numair\",\"ahmad\",\"jafar\",\"ayesha\",\"ishaq\"],\n",
    "     \"age\":[23,24,45,65,72,37,65,43]}\n",
    "data2={\"emp id\":[1,2,3,4,5,6,7,8],\n",
    "      \"salary\":[12000,34000,76000,34000,54600,23000,12000,98000]}\n",
    "d1=pd.DataFrame(data1)\n",
    "d2=pd.DataFrame(data2)\n",
    "print(d1)\n",
    "print(\" \")\n",
    "print(d2)\n",
    "print(pd.merge(d1,d2,on=\"emp id\"))\n"
   ]
  },
  {
   "cell_type": "code",
   "execution_count": 7,
   "id": "7da499b8-825c-4e15-a563-2f94972bd5cf",
   "metadata": {},
   "outputs": [
    {
     "name": "stdout",
     "output_type": "stream",
     "text": [
      "   fruits  price  quantity\n",
      "0  banana    100        23\n",
      "1   apple    400        15\n",
      "2  orange    600        14\n",
      "   fruits  price  quantity\n",
      "0  banana    130        23\n",
      "1   apple    180        15\n",
      "2  orange    200        14\n",
      "\n",
      "  price      \n",
      "   self other\n",
      "0   100   130\n",
      "1   400   180\n",
      "2   600   200\n"
     ]
    }
   ],
   "source": [
    "import pandas as pd\n",
    "dict={\"fruits\":[\"banana\",\"apple\",\"orange\"],\n",
    "     \"price\":[100,400,600],\n",
    "     \"quantity\":[23,15,14]}\n",
    "df1=pd.DataFrame(dict)\n",
    "print(df1)\n",
    "\n",
    "df2=df1.copy()\n",
    "\n",
    "df2.loc[0,\"price\"]=130\n",
    "df2.loc[1,\"price\"]=180\n",
    "df2.loc[2,\"price\"]=200\n",
    "print(df2)\n",
    "print(  )\n",
    "print(df1.compare(df2))\n",
    "\n",
    "\n",
    "\n",
    "\n",
    "\n",
    "\n"
   ]
  },
  {
   "cell_type": "code",
   "execution_count": 19,
   "id": "4fb83635-8e2f-42d0-bbe2-c50df10a7c5d",
   "metadata": {},
   "outputs": [
    {
     "name": "stdout",
     "output_type": "stream",
     "text": [
      "  keys    names  houses\n",
      "0   k1    ahmad     red\n",
      "1   k2   bilial   green\n",
      "2   k2    imran    blue\n",
      "3   k3     shah     red\n",
      "4   k1     aman    blue\n",
      "5   k3  shardha     red\n",
      "6   k1   fatima  orange\n",
      "\n",
      "     names  houses  colors\n",
      "0    ahmad  houses     red\n",
      "1   bilial  houses   green\n",
      "2    imran  houses    blue\n",
      "3     shah  houses     red\n",
      "4     aman  houses    blue\n",
      "5  shardha  houses     red\n",
      "6   fatima  houses  orange\n"
     ]
    }
   ],
   "source": [
    "import pandas as pd\n",
    "dict={\"keys\":[\"k1\",\"k2\",\"k2\",\"k3\",\"k1\",\"k3\",\"k1\"],\n",
    "     \"names\":[\"ahmad\",\"bilial\",\"imran\",\"shah\",\"aman\",\"shardha\",\"fatima\"],\n",
    "     \"houses\":[\"red\",\"green\",\"blue\",\"red\",\"blue\",\"red\",\"orange\"]}\n",
    "df=pd.DataFrame(dict)\n",
    "print(df)\n",
    "print()\n",
    "print(pd.melt(df,id_vars=[\"names\"],value_vars=[\"houses\"] ,var_name=\"houses\",value_name=\"colors\"))\n"
   ]
  },
  {
   "cell_type": "code",
   "execution_count": null,
   "id": "88b8acdc-ca4c-48f2-bd39-90854122748a",
   "metadata": {},
   "outputs": [],
   "source": []
  }
 ],
 "metadata": {
  "kernelspec": {
   "display_name": "Python 3 (ipykernel)",
   "language": "python",
   "name": "python3"
  },
  "language_info": {
   "codemirror_mode": {
    "name": "ipython",
    "version": 3
   },
   "file_extension": ".py",
   "mimetype": "text/x-python",
   "name": "python",
   "nbconvert_exporter": "python",
   "pygments_lexer": "ipython3",
   "version": "3.12.4"
  }
 },
 "nbformat": 4,
 "nbformat_minor": 5
}
