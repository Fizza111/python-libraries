{
 "cells": [
  {
   "cell_type": "code",
   "execution_count": 1,
   "id": "1f081d45-0e28-45e8-8ccd-c0346def5011",
   "metadata": {
    "editable": true,
    "slideshow": {
     "slide_type": ""
    },
    "tags": []
   },
   "outputs": [
    {
     "name": "stdout",
     "output_type": "stream",
     "text": [
      "[ 53 112 112]\n"
     ]
    }
   ],
   "source": [
    "import numpy as np\n",
    "b=np.array([30,45,67])\n",
    "c=np.array([23,67,45])\n",
    "print(b+c)\n",
    "\n",
    "    "
   ]
  },
  {
   "cell_type": "code",
   "execution_count": null,
   "id": "a6ae2a6a-ef97-41aa-b21b-59ab99bc392e",
   "metadata": {},
   "outputs": [],
   "source": []
  },
  {
   "cell_type": "code",
   "execution_count": null,
   "id": "d36d2c2e-aa7d-4c6b-946a-98f8f88ba2f9",
   "metadata": {},
   "outputs": [],
   "source": []
  },
  {
   "cell_type": "code",
   "execution_count": null,
   "id": "90a97e8e-d2b2-4888-8e5f-8cc77e2dd269",
   "metadata": {},
   "outputs": [],
   "source": []
  },
  {
   "cell_type": "code",
   "execution_count": 31,
   "id": "e0826f2f-2f77-491a-9b83-890ad69eeab5",
   "metadata": {},
   "outputs": [
    {
     "name": "stdout",
     "output_type": "stream",
     "text": [
      "[90 34 78 56 27 62]\n"
     ]
    }
   ],
   "source": [
    "arr1=np.array([90,34,78,56,27,62])\n",
    "print(arr1[0:])"
   ]
  },
  {
   "cell_type": "code",
   "execution_count": 33,
   "id": "efb74a29-0b1c-41bf-b6e5-3e3c7c456736",
   "metadata": {},
   "outputs": [
    {
     "name": "stdout",
     "output_type": "stream",
     "text": [
      "[78 56]\n"
     ]
    }
   ],
   "source": [
    "print(arr1[2:4])"
   ]
  },
  {
   "cell_type": "code",
   "execution_count": 61,
   "id": "c10dc4a6-1d6c-443e-afaa-0e6da1e990b6",
   "metadata": {},
   "outputs": [
    {
     "name": "stdout",
     "output_type": "stream",
     "text": [
      "[93]\n"
     ]
    }
   ],
   "source": [
    "arr2=np.array([[[45,23],[93,89]],[[33,55],[9,45]]])\n",
    "print(arr2[0,1,0:1])\n"
   ]
  },
  {
   "cell_type": "code",
   "execution_count": 67,
   "id": "b938b908-677c-4aab-93e8-f09de0f2a1dc",
   "metadata": {},
   "outputs": [
    {
     "name": "stdout",
     "output_type": "stream",
     "text": [
      "8\n",
      "(2, 2, 2)\n",
      "3\n"
     ]
    }
   ],
   "source": [
    "print(np.size(arr2))\n",
    "print(np.shape(arr2))\n",
    "print(np.ndim(arr2))\n"
   ]
  },
  {
   "cell_type": "code",
   "execution_count": 13,
   "id": "c61e7e3d-a7c0-4fa8-9db2-3e2b13189d41",
   "metadata": {},
   "outputs": [
    {
     "name": "stdout",
     "output_type": "stream",
     "text": [
      "[1.91666667 1.97058824 1.75       0.83076923]\n"
     ]
    }
   ],
   "source": [
    "import numpy as np\n",
    "m=np.array([23,67,98,54])\n",
    "p=np.array([12,34,56,65])\n",
    "print(np.divide(m,p))"
   ]
  },
  {
   "cell_type": "code",
   "execution_count": 19,
   "id": "12008ba4-5b15-404a-b6cd-9fd0184f2bcf",
   "metadata": {},
   "outputs": [
    {
     "name": "stdout",
     "output_type": "stream",
     "text": [
      "[4.79583152 8.18535277 9.89949494 7.34846923]\n"
     ]
    }
   ],
   "source": [
    "import numpy as np\n",
    "m=np.array([23,67,98,54])\n",
    "\n",
    "print(np.sqrt(m))"
   ]
  },
  {
   "cell_type": "code",
   "execution_count": 21,
   "id": "40b6c7e7-46b9-44a2-93b9-1cce3dd90af7",
   "metadata": {},
   "outputs": [
    {
     "name": "stdout",
     "output_type": "stream",
     "text": [
      "[ 4  9 16 25]\n"
     ]
    }
   ],
   "source": [
    "import numpy as np\n",
    "b=np.array([2,3,4,5])\n",
    "c=np.array([2])\n",
    "print(np.power(b,c))"
   ]
  },
  {
   "cell_type": "code",
   "execution_count": 35,
   "id": "3d9c0df4-f009-47eb-8e4d-0510835ad953",
   "metadata": {},
   "outputs": [
    {
     "name": "stdout",
     "output_type": "stream",
     "text": [
      "[[[12 13]\n",
      "  [14 15]\n",
      "  [20 21]\n",
      "  [22 23]]\n",
      "\n",
      " [[16 17]\n",
      "  [18 19]\n",
      "  [24 25]\n",
      "  [26 27]]]\n"
     ]
    }
   ],
   "source": [
    "import numpy as np\n",
    "arr1=np.array([[[12,13],[14,15]],[[16,17],[18,19]]])\n",
    "arr2=np.array([[[20,21],[22,23]],[[24,25],[26,27]]])\n",
    "print(np.concatenate([arr1,arr2],axis=1))"
   ]
  },
  {
   "cell_type": "code",
   "execution_count": 3,
   "id": "7dfa65e4-fc21-4bfa-981c-ce4c111a98f4",
   "metadata": {},
   "outputs": [
    {
     "name": "stdout",
     "output_type": "stream",
     "text": [
      "[[ 2  3]\n",
      " [18 19]]\n",
      "[[20 21]\n",
      " [26 27]]\n",
      "[[ 2  3 20 21]\n",
      " [18 19 26 27]]\n",
      "  \n",
      "[[ 2  3]\n",
      " [18 19]\n",
      " [20 21]\n",
      " [26 27]]\n"
     ]
    }
   ],
   "source": [
    "import numpy as np\n",
    "arr1=np.array([[2,3],[18,19]])\n",
    "arr2=np.array([[20,21],[26,27]])\n",
    "print(arr1)\n",
    "print(arr2)\n",
    "print(np.hstack([arr1,arr2]))\n",
    "print(\"  \")\n",
    "print(np.vstack([arr1,arr2]))"
   ]
  },
  {
   "cell_type": "code",
   "execution_count": 49,
   "id": "484eca5f-659a-4534-b7b1-6ead4ec7eea5",
   "metadata": {},
   "outputs": [
    {
     "name": "stdout",
     "output_type": "stream",
     "text": [
      "[[ 2  3]\n",
      " [18 19]\n",
      " [20 21]\n",
      " [26 27]]\n"
     ]
    }
   ],
   "source": [
    "print(np.vstack([arr1,arr2]))"
   ]
  },
  {
   "cell_type": "code",
   "execution_count": 65,
   "id": "9d02539a-5b57-4b5a-a634-20c02bba3569",
   "metadata": {},
   "outputs": [
    {
     "name": "stdout",
     "output_type": "stream",
     "text": [
      "[array([[2, 3, 4, 5, 6]]), array([[ 7,  8,  9, 10, 11]])]\n"
     ]
    }
   ],
   "source": [
    "import numpy as np\n",
    "a=np.array([[2,3,4,5,6],[7,8,9,10,11]])\n",
    "b=np.array_split(a,2)\n",
    "print(b)"
   ]
  },
  {
   "cell_type": "code",
   "execution_count": 3,
   "id": "bd6279c2-1257-476f-9030-62c19d31830f",
   "metadata": {},
   "outputs": [
    {
     "name": "stdout",
     "output_type": "stream",
     "text": [
      "[34 67 34 98 23]\n"
     ]
    }
   ],
   "source": [
    "import numpy as np\n",
    "a=np.array([34,67,34,98])\n",
    "print(np.append(a,23))"
   ]
  },
  {
   "cell_type": "code",
   "execution_count": 5,
   "id": "75a5b207-d891-4937-be7e-9d18a360eabf",
   "metadata": {},
   "outputs": [
    {
     "name": "stdout",
     "output_type": "stream",
     "text": [
      "[34 67 34 78 98]\n"
     ]
    }
   ],
   "source": [
    "print(np.insert(a,3,78))"
   ]
  },
  {
   "cell_type": "code",
   "execution_count": 11,
   "id": "46ed24ab-9dad-4030-b512-333e206a9cfb",
   "metadata": {},
   "outputs": [
    {
     "ename": "TypeError",
     "evalue": "insert() missing 1 required positional argument: 'values'",
     "output_type": "error",
     "traceback": [
      "\u001b[1;31m---------------------------------------------------------------------------\u001b[0m",
      "\u001b[1;31mTypeError\u001b[0m                                 Traceback (most recent call last)",
      "Cell \u001b[1;32mIn[11], line 2\u001b[0m\n\u001b[0;32m      1\u001b[0m arr2\u001b[38;5;241m=\u001b[39mnp\u001b[38;5;241m.\u001b[39marray([[\u001b[38;5;241m2\u001b[39m,\u001b[38;5;241m3\u001b[39m],[\u001b[38;5;241m8\u001b[39m,\u001b[38;5;241m9\u001b[39m]])\n\u001b[1;32m----> 2\u001b[0m \u001b[38;5;28mprint\u001b[39m(np\u001b[38;5;241m.\u001b[39minsert(arr2,[\u001b[38;5;241m34\u001b[39m,\u001b[38;5;241m78\u001b[39m],axis\u001b[38;5;241m=\u001b[39m\u001b[38;5;241m0\u001b[39m))\n",
      "\u001b[1;31mTypeError\u001b[0m: insert() missing 1 required positional argument: 'values'"
     ]
    }
   ],
   "source": [
    "arr2=np.array([[2,3],[8,9]])\n",
    "print(np.insert(arr2,[34,78],axis=0))"
   ]
  },
  {
   "cell_type": "code",
   "execution_count": null,
   "id": "f465a39c-f940-4948-ba7d-74dfa28feaf3",
   "metadata": {},
   "outputs": [],
   "source": []
  },
  {
   "cell_type": "code",
   "execution_count": 1,
   "id": "68175ea8-4779-4aa3-906d-b0846c2d2e83",
   "metadata": {},
   "outputs": [
    {
     "name": "stdout",
     "output_type": "stream",
     "text": [
      "[[12 34 51 78]\n",
      " [34 21 56 95]\n",
      " [ 1  2  3  4]]\n",
      "\n",
      "[[12 34]\n",
      " [34 21]\n",
      " [ 1  2]]\n"
     ]
    }
   ],
   "source": [
    "import numpy as np\n",
    "\n",
    "arr1=np.array([[12,34,51,78],[34,21,56,95],[1,2,3,4]])\n",
    "print(arr1)\n",
    "print()\n",
    "print(np.delete(arr1,[2,3],axis=-1))"
   ]
  },
  {
   "cell_type": "code",
   "execution_count": 1,
   "id": "eb47cf8b-2ee4-4712-9405-795a08c812e9",
   "metadata": {},
   "outputs": [
    {
     "name": "stdout",
     "output_type": "stream",
     "text": [
      "[  5   6  12  23  34  34  54  67  89  89 100]\n"
     ]
    }
   ],
   "source": [
    "import numpy as np\n",
    "arr=np.array([34,89,23,67,54,12,34,5,6,89,100])\n",
    "print(np.sort(arr))"
   ]
  },
  {
   "cell_type": "code",
   "execution_count": 5,
   "id": "9032f2e7-aeb9-4bff-96f5-b54dc02b7c2d",
   "metadata": {},
   "outputs": [
    {
     "name": "stdout",
     "output_type": "stream",
     "text": [
      "(array([0, 2, 4], dtype=int64),)\n"
     ]
    }
   ],
   "source": [
    "arr1=np.array([12,45,78,345,56])\n",
    "s=np.where(arr1%2==0)\n",
    "print(s)"
   ]
  },
  {
   "cell_type": "code",
   "execution_count": 9,
   "id": "60d79eae-933d-40da-b721-3a8970fe0994",
   "metadata": {},
   "outputs": [
    {
     "name": "stdout",
     "output_type": "stream",
     "text": [
      "[ 12  45  56  78 345]\n",
      "2\n"
     ]
    }
   ],
   "source": [
    "print(np.sort(arr1))\n",
    "print(np.searchsorted(arr1,56))"
   ]
  },
  {
   "cell_type": "code",
   "execution_count": 17,
   "id": "82fb5d17-fc6b-4af8-bb0f-fa937461074c",
   "metadata": {},
   "outputs": [
    {
     "name": "stdout",
     "output_type": "stream",
     "text": [
      "['new']\n"
     ]
    }
   ],
   "source": [
    "arr6=np.array(['new','new green','red-green'])\n",
    "fi=arr6 == 'new'\n",
    "print(arr6[fi])\n"
   ]
  },
  {
   "cell_type": "code",
   "execution_count": 23,
   "id": "9a053d24-a1a4-4da5-a83d-8c06a8dc28b0",
   "metadata": {},
   "outputs": [
    {
     "name": "stdout",
     "output_type": "stream",
     "text": [
      "1157\n",
      "12\n",
      "677\n",
      "128.55555555555554\n",
      "[  23   79  166  256  268  313  990 1079 1157]\n",
      "[         23        1288      112056    10085040   121020480  1150954304\n",
      "  1806983232  1907717696 -1521875072]\n"
     ]
    }
   ],
   "source": [
    "import numpy as np\n",
    "arr1=np.array([23,56,87,90,12,45,677,89,78])\n",
    "print(np.sum(arr1))\n",
    "print(np.min(arr1))\n",
    "print(np.max(arr1))\n",
    "print(np.mean(arr1))\n",
    "print(np.cumsum(arr1))\n",
    "print(np.cumprod(arr1))"
   ]
  },
  {
   "cell_type": "code",
   "execution_count": 45,
   "id": "fc728f6b-e86d-40e7-85f3-5a564c934f0a",
   "metadata": {},
   "outputs": [
    {
     "name": "stdout",
     "output_type": "stream",
     "text": [
      "[12 34 56 87 65] [2 4 7 9 8]\n",
      "\n",
      "[[       12       408     22848   1987776 129205440]\n",
      " [        2         8        56       504      4032]]\n",
      "4032\n"
     ]
    }
   ],
   "source": [
    "import numpy as np\n",
    "price=np.array([12,34,56,87,65])\n",
    "quantity=np.array([2,4,7,9,8])\n",
    "print(price,quantity)\n",
    "print()\n",
    "n=np.cumprod([price,quantity] ,axis=1)\n",
    "print(n)\n",
    "print(n[1,4].sum())\n",
    "\n"
   ]
  },
  {
   "cell_type": "code",
   "execution_count": 3,
   "id": "a5c3b365-4de3-4d48-a7f1-cca3a1667323",
   "metadata": {},
   "outputs": [
    {
     "name": "stdout",
     "output_type": "stream",
     "text": [
      "54.166666666666664\n",
      "55.0\n"
     ]
    }
   ],
   "source": [
    "import numpy as np\n",
    "baked=[12,56,54,92,49,62]\n",
    "arr=np.array(baked)\n",
    "print(np.mean(arr))\n",
    "print(np.median(arr))"
   ]
  },
  {
   "cell_type": "code",
   "execution_count": 11,
   "id": "b3137e36-2789-445d-9544-cbb965e27bbf",
   "metadata": {},
   "outputs": [
    {
     "name": "stdout",
     "output_type": "stream",
     "text": [
      "12\n",
      "55.65258304876782\n",
      "3097.21\n"
     ]
    }
   ],
   "source": [
    "import statistics as stat\n",
    "\n",
    "ar=np.array([12,12,12,34,56,78,90,8,55,200])\n",
    "print(stat.mode(ar))\n",
    "print(np.std(ar))\n",
    "print(np.var(ar))"
   ]
  },
  {
   "cell_type": "code",
   "execution_count": 13,
   "id": "a57c16e1-936e-4700-9256-8ec9d338f07c",
   "metadata": {},
   "outputs": [
    {
     "name": "stdout",
     "output_type": "stream",
     "text": [
      "[[ 1.         -0.98514851]\n",
      " [-0.98514851  1.        ]]\n"
     ]
    }
   ],
   "source": [
    "price=np.array([12,34,56,78,90])\n",
    "sale=np.array([90,78,56,34,12])\n",
    "print(np.corrcoef([price,sale]))\n"
   ]
  },
  {
   "cell_type": "code",
   "execution_count": 27,
   "id": "e2a06d1b-072b-4f8b-a796-2ef659bc03ba",
   "metadata": {},
   "outputs": [],
   "source": [
    "import numpy as np\n",
    "a=np.array([[0, 3, '0', 22.0, 1, '0'],\n",
    "       [1, 1, '1', 38.0, 1, '1'],\n",
    "       [1, 3, '1', 26.0, 0, '0'],\n",
    "       [1, 1, '1', 35.0, 1, '0'],\n",
    "       [0, 3, '0', 35.0, 0, '0']])\n"
   ]
  },
  {
   "cell_type": "code",
   "execution_count": 29,
   "id": "3c29492e-9f2d-4e09-a528-aab61dce521b",
   "metadata": {},
   "outputs": [
    {
     "data": {
      "text/plain": [
       "array([['0', '3', '22.0'],\n",
       "       ['1', '1', '38.0'],\n",
       "       ['1', '3', '26.0'],\n",
       "       ['1', '1', '35.0'],\n",
       "       ['0', '3', '35.0']], dtype='<U32')"
      ]
     },
     "execution_count": 29,
     "metadata": {},
     "output_type": "execute_result"
    }
   ],
   "source": [
    "a=np.delete(a,[2,4,5],axis=1)\n",
    "a"
   ]
  }
 ],
 "metadata": {
  "kernelspec": {
   "display_name": "Python 3 (ipykernel)",
   "language": "python",
   "name": "python3"
  },
  "language_info": {
   "codemirror_mode": {
    "name": "ipython",
    "version": 3
   },
   "file_extension": ".py",
   "mimetype": "text/x-python",
   "name": "python",
   "nbconvert_exporter": "python",
   "pygments_lexer": "ipython3",
   "version": "3.12.4"
  }
 },
 "nbformat": 4,
 "nbformat_minor": 5
}
